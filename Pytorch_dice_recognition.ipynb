{
  "nbformat": 4,
  "nbformat_minor": 0,
  "metadata": {
    "colab": {
      "provenance": [],
      "authorship_tag": "ABX9TyMMYpVMJP46O1R9tFYHTYab",
      "include_colab_link": true
    },
    "kernelspec": {
      "name": "python3",
      "display_name": "Python 3"
    },
    "language_info": {
      "name": "python"
    },
    "gpuClass": "standard",
    "accelerator": "GPU"
  },
  "cells": [
    {
      "cell_type": "markdown",
      "metadata": {
        "id": "view-in-github",
        "colab_type": "text"
      },
      "source": [
        "<a href=\"https://colab.research.google.com/github/tszalama/ml_dice/blob/main/Pytorch_dice_recognition.ipynb\" target=\"_parent\"><img src=\"https://colab.research.google.com/assets/colab-badge.svg\" alt=\"Open In Colab\"/></a>"
      ]
    },
    {
      "cell_type": "markdown",
      "source": [
        "Flags and parameters"
      ],
      "metadata": {
        "id": "T2-S0cPfvrou"
      }
    },
    {
      "cell_type": "code",
      "source": [
        "LOAD_MODEL = True #if set to True, a pre-trained model will be downloaded and loaded\n",
        "TEST_FILE = 'dice_09.dat'"
      ],
      "metadata": {
        "id": "0zGgvYaVvADd"
      },
      "execution_count": null,
      "outputs": []
    },
    {
      "cell_type": "markdown",
      "source": [
        "Download dataset"
      ],
      "metadata": {
        "id": "LS2pQbohv27I"
      }
    },
    {
      "cell_type": "code",
      "source": [
        "!wget 'https://www.dropbox.com/s/9ufpyaghb7fyfq9/dice.zip'  #Dataset\n",
        "!unzip dice.zip\n",
        "!rm -rf __MACOSX"
      ],
      "metadata": {
        "id": "pA61vgxlvB2f"
      },
      "execution_count": null,
      "outputs": []
    },
    {
      "cell_type": "markdown",
      "source": [
        "Import all necessary libraries"
      ],
      "metadata": {
        "id": "zztj4so3Bzsu"
      }
    },
    {
      "cell_type": "code",
      "source": [
        "import io\n",
        "import os\n",
        "import torch\n",
        "import numpy as np\n",
        "from torch.utils.data import DataLoader, Dataset\n",
        "import torch\n",
        "from torch import nn, optim\n",
        "from torchvision import datasets, transforms"
      ],
      "metadata": {
        "id": "zEHhtDXor2Ep"
      },
      "execution_count": null,
      "outputs": []
    },
    {
      "cell_type": "markdown",
      "source": [
        "Dataset definition"
      ],
      "metadata": {
        "id": "QD01gvZrwC5q"
      }
    },
    {
      "cell_type": "code",
      "source": [
        "class DiceDataset(Dataset):\n",
        "    def __init__(self, train=True, root_path='dice/data/', test_file=TEST_FILE):\n",
        "      contents = []\n",
        "      for f in os.scandir(root_path):\n",
        "        if f.is_file() and f.name.endswith('.dat'):\n",
        "          if train ^ (f.name == test_file):\n",
        "            file_contents = np.fromfile(root_path+f.name, dtype=np.uint8).reshape(-1,401)\n",
        "            contents.append(file_contents)\n",
        "      contents = np.vstack(contents)\n",
        "      self.pictures = contents[:,1:].reshape(-1,1,20,20)\n",
        "      self.pictures = torch.tensor(self.pictures, dtype=torch.float32) / 255\n",
        "      self.labels = contents[:,0]\n",
        "\n",
        "    def __getitem__(self, key):\n",
        "        return self.pictures[key], self.labels[key]\n",
        "\n",
        "    def __len__(self):\n",
        "        return len(self.pictures)"
      ],
      "metadata": {
        "id": "dZg6D-m4sX4J"
      },
      "execution_count": null,
      "outputs": []
    },
    {
      "cell_type": "markdown",
      "source": [
        "Data loader / data set initialization"
      ],
      "metadata": {
        "id": "nk7Cg8C-wOy8"
      }
    },
    {
      "cell_type": "code",
      "source": [
        "train_data = DiceDataset(train=True)\n",
        "test_data = DiceDataset(train=False)\n",
        "train_loader = torch.utils.data.DataLoader(train_data, batch_size=64, shuffle=True)\n",
        "test_loader = torch.utils.data.DataLoader(test_data, batch_size=64, shuffle=False)"
      ],
      "metadata": {
        "id": "yjCHmnfqsZ2o"
      },
      "execution_count": null,
      "outputs": []
    },
    {
      "cell_type": "markdown",
      "source": [
        "Model definition"
      ],
      "metadata": {
        "id": "hnVPEEKtwYxY"
      }
    },
    {
      "cell_type": "code",
      "source": [
        "#Model that uses CNN for recognizing dice (based on MNIST CNN example shown in lectures)\n",
        "model_dice = nn.Sequential(\n",
        "  nn.Conv2d(1, 32, 3),  #Apply convolution with 1 in channel, 32 out channels and kernel size 3\n",
        "  nn.ReLU(),            #Activation function\n",
        "  nn.Conv2d(32, 32, 3),\n",
        "  nn.ReLU(),            \n",
        "  nn.MaxPool2d((2,2)),  #Apply a max pooling that reduces the amount of parameters by combining the strongest features\n",
        "  nn.Conv2d(32, 32, 3),\n",
        "  nn.ReLU(),\n",
        "  nn.Flatten(),         #Reshape into a one-dimensional tensor\n",
        "  nn.Linear(in_features=1152, out_features=132), #Apply linnear transformation\n",
        "  nn.ReLU(),\n",
        "  nn.Linear(in_features=132, out_features=13),\n",
        "  nn.LogSoftmax(1) #activation function based on softmax to categorize result\n",
        ")"
      ],
      "metadata": {
        "id": "aT82ZvXrkcyw"
      },
      "execution_count": null,
      "outputs": []
    },
    {
      "cell_type": "markdown",
      "source": [
        "Model initialization"
      ],
      "metadata": {
        "id": "03a6kuArwbv7"
      }
    },
    {
      "cell_type": "code",
      "source": [
        "#Load a pre-trained model from google drive if the LOAD_MODEL is set to true\n",
        "if LOAD_MODEL:\n",
        "  LOADFILE = 'dice_model.pt'\n",
        "  !wget -O dice_model.pt 'https://drive.google.com/uc?export=download&id=14y_3sFo3x-szv8LF-aF15KWA99kcItnY'\n",
        "  model = torch.load(LOADFILE)\n",
        "  model.eval()\n",
        "else:\n",
        "  #If LOAD_MODEL flag is set to false, initialize a new model\n",
        "  model = model_dice"
      ],
      "metadata": {
        "id": "sKc7nDcuukIr"
      },
      "execution_count": null,
      "outputs": []
    },
    {
      "cell_type": "markdown",
      "source": [
        "Device configuration"
      ],
      "metadata": {
        "id": "JdDMbUpbaM6Z"
      }
    },
    {
      "cell_type": "code",
      "source": [
        "# Check if GPU is available, else use CPU (slower training)\n",
        "device = 'cuda:0' if torch.cuda.is_available() else 'cpu'\n",
        "print('GPU State:', device)\n",
        "model.to(device)"
      ],
      "metadata": {
        "colab": {
          "base_uri": "https://localhost:8080/"
        },
        "id": "VR0gw2RDZBU9",
        "outputId": "7afa0a12-0704-4b9e-f6d0-bd4ddf4fa9ae"
      },
      "execution_count": null,
      "outputs": [
        {
          "output_type": "stream",
          "name": "stdout",
          "text": [
            "GPU State: cuda:0\n"
          ]
        },
        {
          "output_type": "execute_result",
          "data": {
            "text/plain": [
              "Sequential(\n",
              "  (0): Conv2d(1, 32, kernel_size=(3, 3), stride=(1, 1))\n",
              "  (1): ReLU()\n",
              "  (2): Conv2d(32, 32, kernel_size=(3, 3), stride=(1, 1))\n",
              "  (3): ReLU()\n",
              "  (4): MaxPool2d(kernel_size=(2, 2), stride=(2, 2), padding=0, dilation=1, ceil_mode=False)\n",
              "  (5): Conv2d(32, 32, kernel_size=(3, 3), stride=(1, 1))\n",
              "  (6): ReLU()\n",
              "  (7): Flatten(start_dim=1, end_dim=-1)\n",
              "  (8): Linear(in_features=1152, out_features=132, bias=True)\n",
              "  (9): ReLU()\n",
              "  (10): Linear(in_features=132, out_features=13, bias=True)\n",
              "  (11): LogSoftmax(dim=1)\n",
              ")"
            ]
          },
          "metadata": {},
          "execution_count": 92
        }
      ]
    },
    {
      "cell_type": "markdown",
      "source": [
        "Specify training parameters, loss function and backpropagation function"
      ],
      "metadata": {
        "id": "eQ__TXhfaN7C"
      }
    },
    {
      "cell_type": "code",
      "source": [
        "#Only if model was not loaded\n",
        "if LOAD_MODEL == False:\n",
        "  epochs = 5\n",
        "  lr = 0.005\n",
        "  momentum = 0.9\n",
        "  criterion = nn.NLLLoss() #define loss function\n",
        "  optimizer = optim.SGD(model.parameters(), lr=lr, momentum=momentum) #define the optimizer"
      ],
      "metadata": {
        "id": "HDpVv44qx9IY"
      },
      "execution_count": null,
      "outputs": []
    },
    {
      "cell_type": "markdown",
      "source": [
        "Training loop"
      ],
      "metadata": {
        "id": "siHtDer_aTih"
      }
    },
    {
      "cell_type": "code",
      "source": [
        "if LOAD_MODEL == False:\n",
        "  #Training loop (based on MNIST example shown in lectures)\n",
        "  for epoch in range(epochs):\n",
        "      running_loss = 0.0\n",
        "\n",
        "      for times, data in enumerate(train_loader):\n",
        "          inputs, labels = data[0].to(device), data[1].to(device)\n",
        "\n",
        "          # Forward pass\n",
        "          optimizer.zero_grad()\n",
        "          outputs = model(inputs)\n",
        "\n",
        "          #Determine loss and perform backpropagation\n",
        "          loss = criterion(outputs, labels)\n",
        "          loss.backward()\n",
        "          optimizer.step()\n",
        "\n",
        "          #Save loss in variable\n",
        "          loss_result = loss.item()\n",
        "\n",
        "          #Print loss and epoch once every 100 cycles\n",
        "          if times % 100 == 0:\n",
        "              print('[Epoch: %d] [Loss: %.3f]' % (epoch+1, loss_result))"
      ],
      "metadata": {
        "id": "GocBSCl1yDnI"
      },
      "execution_count": null,
      "outputs": []
    },
    {
      "cell_type": "markdown",
      "source": [
        "Save model"
      ],
      "metadata": {
        "id": "GZWw5x_8wl0q"
      }
    },
    {
      "cell_type": "code",
      "source": [
        "#torch.save(model, 'dice_model.pt')"
      ],
      "metadata": {
        "id": "ktgE0aokr-WD"
      },
      "execution_count": null,
      "outputs": []
    },
    {
      "cell_type": "markdown",
      "source": [
        "Test accuracy"
      ],
      "metadata": {
        "id": "gdMqCzFFApOx"
      }
    },
    {
      "cell_type": "code",
      "source": [
        "correct = 0\n",
        "total = 0\n",
        "\n",
        "#Test the accuracy of the model (based on MNIST example shown in lectures)\n",
        "with torch.no_grad():\n",
        "    for data in test_loader:\n",
        "        inputs, labels = data #seperate data into inputs and labels\n",
        "        inputs, labels = inputs.to(device), labels.to(device) #load to device\n",
        "\n",
        "        outputs = model(inputs)  #get output for inputs\n",
        "        _, predicted = torch.max(outputs.data, 1) #get the maximum value from a 1d vector\n",
        "        total += labels.size(0) #count the total label amount\n",
        "        correct += (predicted == labels).sum().item() #count the correct labels (where prediction == expected outcome)\n",
        "\n",
        "print('Precision for %d test cases is %.2f %%' % (total, (100*correct / total))) #output total and precision"
      ],
      "metadata": {
        "id": "i5OQ1J38sW7q",
        "colab": {
          "base_uri": "https://localhost:8080/"
        },
        "outputId": "30c7ba33-b3bd-4621-c9a0-1c49621a591c"
      },
      "execution_count": null,
      "outputs": [
        {
          "output_type": "stream",
          "name": "stdout",
          "text": [
            "Precision for 100000 test cases is 99.97 %\n"
          ]
        }
      ]
    }
  ]
}